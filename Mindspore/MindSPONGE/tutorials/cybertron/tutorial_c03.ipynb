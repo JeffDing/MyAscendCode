{
 "cells": [
  {
   "cell_type": "markdown",
   "metadata": {},
   "source": [
    "Copyright 2021-2022 @ Shenzhen Bay Laboratory & Peking University & Huawei Technologies Co., Ltd\n",
    "\n",
    "This code is a part of Cybertron package.\n",
    "\n",
    "The Cybertron is open-source software based on the AI-framework:\n",
    "MindSpore (https://www.mindspore.cn/)\n",
    "\n",
    "Licensed under the Apache License, Version 2.0 (the \"License\");\n",
    "you may not use this file except in compliance with the License.\n",
    "\n",
    "You may obtain a copy of the License at http://www.apache.org/licenses/LICENSE-2.0\n",
    "\n",
    "Unless required by applicable law or agreed to in writing, software\n",
    "distributed under the License is distributed on an \"AS IS\" BASIS,\n",
    "WITHOUT WARRANTIES OR CONDITIONS OF ANY KIND, either express or implied.\n",
    "\n",
    "See the License for the specific language governing permissions and\n",
    "limitations under the License.\n",
    "\n",
    "Cybertron tutorial 03: Use normalized dataset and validation dataset"
   ]
  },
  {
   "cell_type": "code",
   "execution_count": 1,
   "metadata": {},
   "outputs": [],
   "source": [
    "import sys\n",
    "import time\n",
    "import numpy as np\n",
    "from mindspore import nn\n",
    "from mindspore import context\n",
    "from mindspore import dataset as ds\n",
    "from mindspore.train import Model\n",
    "from mindspore.train.callback import ModelCheckpoint, CheckpointConfig\n",
    "from cybertron import Cybertron\n",
    "from cybertron import MolCT\n",
    "from cybertron import AtomwiseReadout\n",
    "from cybertron.train import TrainMonitor, MAE, MLoss\n",
    "from cybertron.train import WithLabelLossCell, WithLabelEvalCell\n",
    "\n",
    "context.set_context(mode=context.GRAPH_MODE, device_target=\"GPU\")"
   ]
  },
  {
   "cell_type": "code",
   "execution_count": 2,
   "metadata": {},
   "outputs": [],
   "source": [
    "data_name = sys.path[0] + '/dataset_qm9_normed_'\n",
    "train_file = data_name + 'trainset_1024.npz'\n",
    "valid_file = data_name + 'validset_128.npz'\n",
    "\n",
    "train_data = np.load(train_file)\n",
    "valid_data = np.load(valid_file)\n",
    "\n",
    "idx = [7]  # U0\n",
    "\n",
    "num_atom = int(train_data['num_atoms'])\n",
    "scale = train_data['scale'][idx]\n",
    "shift = train_data['shift'][idx]\n",
    "ref = train_data['type_ref'][:, idx]"
   ]
  },
  {
   "cell_type": "code",
   "execution_count": 3,
   "metadata": {},
   "outputs": [],
   "source": [
    "mod = MolCT(\n",
    "    cutoff=1,\n",
    "    n_interaction=3,\n",
    "    dim_feature=128,\n",
    "    n_heads=8,\n",
    "    activation='swish',\n",
    "    max_cycles=1,\n",
    "    length_unit='nm',\n",
    ")"
   ]
  },
  {
   "cell_type": "code",
   "execution_count": 4,
   "metadata": {},
   "outputs": [],
   "source": [
    "readout = AtomwiseReadout(mod, dim_output=1)"
   ]
  },
  {
   "cell_type": "code",
   "execution_count": 5,
   "metadata": {},
   "outputs": [
    {
     "name": "stdout",
     "output_type": "stream",
     "text": [
      "================================================================================\n",
      "Cybertron Engine, Ride-on!\n",
      "--------------------------------------------------------------------------------\n",
      "    Length unit: nm\n",
      "    Input unit scale: 1\n",
      "--------------------------------------------------------------------------------\n",
      "    Deep molecular model:  MolCT\n",
      "--------------------------------------------------------------------------------\n",
      "       Length unit: nm\n",
      "       Atom embedding size: 64\n",
      "       Cutoff distance: 1.0 nm\n",
      "       Radical basis function (RBF): LogGaussianBasis\n",
      "          Minimum distance: 0.04 nm\n",
      "          Maximum distance: 1.0 nm\n",
      "          Reference distance: 1.0 nm\n",
      "          Log Gaussian begin: -3.218876\n",
      "          Log Gaussian end: 0.006724119\n",
      "          Interval for log Gaussian: 0.0512\n",
      "          Sigma for log gaussian: 0.3\n",
      "          Number of basis functions: 64\n",
      "          Rescale the range of RBF to (-1,1).\n",
      "       Calculate distance: Yes\n",
      "       Calculate bond: No\n",
      "       Feature dimension: 128\n",
      "--------------------------------------------------------------------------------\n",
      "       Using 3 independent interaction layers:\n",
      "--------------------------------------------------------------------------------\n",
      "       0. Neural Interaction Unit\n",
      "          Feature dimension: 128\n",
      "          Activation function: Swish\n",
      "          Encoding distance: Yes\n",
      "          Encoding bond: No\n",
      "          Number of heads in multi-haed attention: 8\n",
      "          Use feed forward network: No\n",
      "--------------------------------------------------------------------------------\n",
      "       1. Neural Interaction Unit\n",
      "          Feature dimension: 128\n",
      "          Activation function: Swish\n",
      "          Encoding distance: Yes\n",
      "          Encoding bond: No\n",
      "          Number of heads in multi-haed attention: 8\n",
      "          Use feed forward network: No\n",
      "--------------------------------------------------------------------------------\n",
      "       2. Neural Interaction Unit\n",
      "          Feature dimension: 128\n",
      "          Activation function: Swish\n",
      "          Encoding distance: Yes\n",
      "          Encoding bond: No\n",
      "          Number of heads in multi-haed attention: 8\n",
      "          Use feed forward network: No\n",
      "--------------------------------------------------------------------------------\n",
      "    Readout network: AtomwiseReadout\n",
      "--------------------------------------------------------------------------------\n",
      "       Activation function: Swish\n",
      "       Decoder: HalveDecoder\n",
      "       Aggregator: TensorSummation\n",
      "       Representation dimension: 128\n",
      "       Readout dimension: 1\n",
      "       Scale: 1.0\n",
      "       Shift: 0.0\n",
      "       Scaleshift mode: Atomwise\n",
      "       Reference value for atom types: None\n",
      "       Output unit: None\n",
      "       Reduce axis: -2\n",
      "--------------------------------------------------------------------------------\n",
      "    Output dimension: 1\n",
      "    Output unit for Cybertron: None\n",
      "    Output unit scale: 1.0\n",
      "================================================================================\n"
     ]
    }
   ],
   "source": [
    "net = Cybertron(model=mod, readout=readout, dim_output=1,\n",
    "                num_atoms=num_atom, length_unit='nm')\n",
    "net.print_info()"
   ]
  },
  {
   "cell_type": "code",
   "execution_count": 6,
   "metadata": {},
   "outputs": [
    {
     "name": "stdout",
     "output_type": "stream",
     "text": [
      "0 model.atom_embedding.embedding_table (64, 128)\n",
      "1 model.dis_filter.linear.weight (128, 64)\n",
      "2 model.dis_filter.linear.bias (128,)\n",
      "3 model.dis_filter.residual.nonlinear.mlp.0.weight (128, 128)\n",
      "4 model.dis_filter.residual.nonlinear.mlp.0.bias (128,)\n",
      "5 model.dis_filter.residual.nonlinear.mlp.1.weight (128, 128)\n",
      "6 model.dis_filter.residual.nonlinear.mlp.1.bias (128,)\n",
      "7 model.interactions.0.positional_embedding.norm.gamma (128,)\n",
      "8 model.interactions.0.positional_embedding.norm.beta (128,)\n",
      "9 model.interactions.0.positional_embedding.x2q.weight (128, 128)\n",
      "10 model.interactions.0.positional_embedding.x2k.weight (128, 128)\n",
      "11 model.interactions.0.positional_embedding.x2v.weight (128, 128)\n",
      "12 model.interactions.0.multi_head_attention.output.weight (128, 128)\n",
      "13 model.interactions.1.positional_embedding.norm.gamma (128,)\n",
      "14 model.interactions.1.positional_embedding.norm.beta (128,)\n",
      "15 model.interactions.1.positional_embedding.x2q.weight (128, 128)\n",
      "16 model.interactions.1.positional_embedding.x2k.weight (128, 128)\n",
      "17 model.interactions.1.positional_embedding.x2v.weight (128, 128)\n",
      "18 model.interactions.1.multi_head_attention.output.weight (128, 128)\n",
      "19 model.interactions.2.positional_embedding.norm.gamma (128,)\n",
      "20 model.interactions.2.positional_embedding.norm.beta (128,)\n",
      "21 model.interactions.2.positional_embedding.x2q.weight (128, 128)\n",
      "22 model.interactions.2.positional_embedding.x2k.weight (128, 128)\n",
      "23 model.interactions.2.positional_embedding.x2v.weight (128, 128)\n",
      "24 model.interactions.2.multi_head_attention.output.weight (128, 128)\n",
      "25 readout.decoder.output.mlp.0.weight (64, 128)\n",
      "26 readout.decoder.output.mlp.0.bias (64,)\n",
      "27 readout.decoder.output.mlp.1.weight (1, 64)\n",
      "28 readout.decoder.output.mlp.1.bias (1,)\n",
      "Total parameters:  255233\n"
     ]
    }
   ],
   "source": [
    "tot_params = 0\n",
    "for i, param in enumerate(net.get_parameters()):\n",
    "    tot_params += param.size\n",
    "    print(i, param.name, param.shape)\n",
    "print('Total parameters: ', tot_params)"
   ]
  },
  {
   "cell_type": "code",
   "execution_count": 7,
   "metadata": {},
   "outputs": [],
   "source": [
    "n_epoch = 8\n",
    "repeat_time = 1\n",
    "batch_size = 32"
   ]
  },
  {
   "cell_type": "code",
   "execution_count": 8,
   "metadata": {},
   "outputs": [],
   "source": [
    "ds_train = ds.NumpySlicesDataset(\n",
    "    {'R': train_data['R'], 'Z': train_data['Z'], 'E': train_data['E'][:, idx]}, shuffle=True)\n",
    "ds_train = ds_train.batch(batch_size, drop_remainder=True)\n",
    "ds_train = ds_train.repeat(repeat_time)"
   ]
  },
  {
   "cell_type": "code",
   "execution_count": 9,
   "metadata": {},
   "outputs": [
    {
     "name": "stdout",
     "output_type": "stream",
     "text": [
      "WithLabelEvalCell with input type: RZE\n",
      "   with scaleshift for training and evaluate dataset:\n",
      "   Scale: [18.248537]\n",
      "   Shift: [-409.42038]\n",
      "   Scaleshift mode: atomwise\n",
      "   with reference value for atom types:\n",
      "   Type     Label0\n",
      "   0:        0.00e+00\n",
      "   1:       -1.31e+03\n",
      "   2:        0.00e+00\n",
      "   3:        0.00e+00\n",
      "   4:        0.00e+00\n",
      "   5:        0.00e+00\n",
      "   6:       -9.94e+04\n",
      "   7:       -1.43e+05\n",
      "   8:       -1.97e+05\n",
      "   9:       -2.62e+05\n"
     ]
    }
   ],
   "source": [
    "ds_valid = ds.NumpySlicesDataset(\n",
    "    {'R': valid_data['R'], 'Z': valid_data['Z'], 'E': valid_data['E'][:, idx]}, shuffle=False)\n",
    "ds_valid = ds_valid.batch(128)\n",
    "ds_valid = ds_valid.repeat(1)\n",
    "eval_network = WithLabelEvalCell(\n",
    "    'RZE', net, nn.MAELoss(), scale=scale, shift=shift, type_ref=ref)"
   ]
  },
  {
   "cell_type": "code",
   "execution_count": 10,
   "metadata": {},
   "outputs": [
    {
     "name": "stdout",
     "output_type": "stream",
     "text": [
      "WithLabelLossCell with input type: RZE\n",
      "WithLabelEvalCell with input type: RZE\n",
      "   with scaleshift for training and evaluate dataset:\n",
      "   Scale: [18.248537]\n",
      "   Shift: [-409.42038]\n",
      "   Scaleshift mode: atomwise\n",
      "   with reference value for atom types:\n",
      "   Type     Label0\n",
      "   0:        0.00e+00\n",
      "   1:       -1.31e+03\n",
      "   2:        0.00e+00\n",
      "   3:        0.00e+00\n",
      "   4:        0.00e+00\n",
      "   5:        0.00e+00\n",
      "   6:       -9.94e+04\n",
      "   7:       -1.43e+05\n",
      "   8:       -1.97e+05\n",
      "   9:       -2.62e+05\n"
     ]
    }
   ],
   "source": [
    "loss_network = WithLabelLossCell('RZE', net, nn.MAELoss())\n",
    "eval_network = WithLabelEvalCell('RZE', net, nn.MAELoss(), scale=scale, shift=shift, type_ref=ref)"
   ]
  },
  {
   "cell_type": "code",
   "execution_count": 11,
   "metadata": {},
   "outputs": [],
   "source": [
    "lr = nn.ExponentialDecayLR(\n",
    "    learning_rate=1e-3, decay_rate=0.96, decay_steps=4, is_stair=True)\n",
    "optim = nn.Adam(params=net.trainable_params(), learning_rate=lr)"
   ]
  },
  {
   "cell_type": "code",
   "execution_count": 12,
   "metadata": {},
   "outputs": [],
   "source": [
    "eval_mae = 'EvalMAE'\n",
    "atom_mae = 'AtomMAE'\n",
    "eval_loss = 'Evalloss'\n",
    "model = Model(loss_network, optimizer=optim, eval_network=eval_network, metrics={\n",
    "    eval_mae: MAE([1, 2]), atom_mae: MAE([1, 2, 3], averaged_by_atoms=True), eval_loss: MLoss(0)})"
   ]
  },
  {
   "cell_type": "code",
   "execution_count": 13,
   "metadata": {},
   "outputs": [],
   "source": [
    "outdir = 'Tutorial_C03'\n",
    "outname = outdir + '_' + net.model_name\n",
    "record_cb = TrainMonitor(model, outname, per_step=16, avg_steps=16,\n",
    "                         directory=outdir, eval_dataset=ds_valid, best_ckpt_metrics=eval_loss)"
   ]
  },
  {
   "cell_type": "code",
   "execution_count": 14,
   "metadata": {},
   "outputs": [],
   "source": [
    "config_ck = CheckpointConfig(\n",
    "    save_checkpoint_steps=32, keep_checkpoint_max=64, append_info=[net.hyper_param])\n",
    "ckpoint_cb = ModelCheckpoint(\n",
    "    prefix=outname, directory=outdir, config=config_ck)"
   ]
  },
  {
   "cell_type": "code",
   "execution_count": 15,
   "metadata": {},
   "outputs": [
    {
     "name": "stderr",
     "output_type": "stream",
     "text": [
      "[WARNING] ME(10645:140427012212544,MainProcess):2022-08-10-17:09:21.993.028 [mindspore/train/model.py:1097] For TrainMonitor callback, {'epoch_end', 'step_end', 'begin'} methods may not be supported in later version, Use methods prefixed with 'on_train' or 'on_eval' instead when using customized callbacks.\n"
     ]
    },
    {
     "name": "stdout",
     "output_type": "stream",
     "text": [
      "Start training ...\n",
      "Epoch: 1, Step: 16, Learning_rate: 0.0008847359, Last_Loss: 11.799086, Avg_loss: 18.80343872308731, EvalMAE: 173.958984375, AtomMAE: 10.103175163269043, Evalloss: 9.532511711120605\n",
      "Epoch: 1, Step: 32, Learning_rate: 0.00075144734, Last_Loss: 5.9166617, Avg_loss: 7.659756004810333, EvalMAE: 91.130859375, AtomMAE: 5.352151393890381, Evalloss: 4.993131160736084\n",
      "Epoch: 2, Step: 48, Learning_rate: 0.00063823926, Last_Loss: 4.3434505, Avg_loss: 5.219596639275551, EvalMAE: 104.88427734375, AtomMAE: 5.920068264007568, Evalloss: 5.747384071350098\n",
      "Epoch: 2, Step: 64, Learning_rate: 0.0005420862, Last_Loss: 5.076306, Avg_loss: 4.783167123794556, EvalMAE: 101.13427734375, AtomMAE: 5.925308704376221, Evalloss: 5.542019367218018\n",
      "Epoch: 3, Step: 80, Learning_rate: 0.00046041902, Last_Loss: 4.7915583, Avg_loss: 4.63302518427372, EvalMAE: 91.04296875, AtomMAE: 5.178142070770264, Evalloss: 4.98902702331543\n",
      "Epoch: 3, Step: 96, Learning_rate: 0.00039105528, Last_Loss: 5.3192387, Avg_loss: 4.376171350479126, EvalMAE: 67.95458984375, AtomMAE: 3.9735140800476074, Evalloss: 3.7234585285186768\n",
      "Epoch: 4, Step: 112, Learning_rate: 0.0003321414, Last_Loss: 3.7639942, Avg_loss: 4.127264022827148, EvalMAE: 66.2001953125, AtomMAE: 3.903273582458496, Evalloss: 3.6276674270629883\n",
      "Epoch: 4, Step: 128, Learning_rate: 0.00028210317, Last_Loss: 3.8320365, Avg_loss: 3.522270828485489, EvalMAE: 67.041015625, AtomMAE: 3.9633729457855225, Evalloss: 3.673680305480957\n",
      "Epoch: 5, Step: 144, Learning_rate: 0.00023960331, Last_Loss: 2.731121, Avg_loss: 3.2788464426994324, EvalMAE: 54.1416015625, AtomMAE: 3.224651336669922, Evalloss: 2.9671707153320312\n",
      "Epoch: 5, Step: 160, Learning_rate: 0.00020350624, Last_Loss: 3.2149673, Avg_loss: 3.092077910900116, EvalMAE: 52.990234375, AtomMAE: 3.1564247608184814, Evalloss: 2.903467893600464\n",
      "Epoch: 6, Step: 176, Learning_rate: 0.00017284731, Last_Loss: 1.727356, Avg_loss: 2.630713552236557, EvalMAE: 48.44091796875, AtomMAE: 2.9004178047180176, Evalloss: 2.654426097869873\n",
      "Epoch: 6, Step: 192, Learning_rate: 0.00014680726, Last_Loss: 2.9354548, Avg_loss: 2.7759436070919037, EvalMAE: 48.5302734375, AtomMAE: 2.9040849208831787, Evalloss: 2.659210681915283\n",
      "Epoch: 7, Step: 208, Learning_rate: 0.00012469022, Last_Loss: 2.1433725, Avg_loss: 2.43742585927248, EvalMAE: 43.0869140625, AtomMAE: 2.555586338043213, Evalloss: 2.3609848022460938\n",
      "Epoch: 7, Step: 224, Learning_rate: 0.0001059052, Last_Loss: 2.3000104, Avg_loss: 2.4906784668564796, EvalMAE: 46.6875, AtomMAE: 2.7041172981262207, Evalloss: 2.55840802192688\n",
      "Epoch: 8, Step: 240, Learning_rate: 8.995021e-05, Last_Loss: 1.8071547, Avg_loss: 2.236132964491844, EvalMAE: 42.48486328125, AtomMAE: 2.4723353385925293, Evalloss: 2.328176975250244\n",
      "Epoch: 8, Step: 256, Learning_rate: 7.63989e-05, Last_Loss: 2.3014789, Avg_loss: 2.383276119828224, EvalMAE: 40.95556640625, AtomMAE: 2.3923487663269043, Evalloss: 2.24428129196167\n",
      "Training Fininshed!\n",
      "Training Time: 00:00:36\n"
     ]
    }
   ],
   "source": [
    "print(\"Start training ...\")\n",
    "beg_time = time.time()\n",
    "model.train(n_epoch, ds_train, callbacks=[record_cb, ckpoint_cb], dataset_sink_mode=False)\n",
    "end_time = time.time()\n",
    "used_time = end_time - beg_time\n",
    "m, s = divmod(used_time, 60)\n",
    "h, m = divmod(m, 60)\n",
    "print(\"Training Fininshed!\")\n",
    "print(\"Training Time: %02d:%02d:%02d\" % (h, m, s))"
   ]
  }
 ],
 "metadata": {
  "kernelspec": {
   "display_name": "MindSpore",
   "language": "python",
   "name": "mindspore"
  },
  "language_info": {
   "codemirror_mode": {
    "name": "ipython",
    "version": 3
   },
   "file_extension": ".py",
   "mimetype": "text/x-python",
   "name": "python",
   "nbconvert_exporter": "python",
   "pygments_lexer": "ipython3",
   "version": "3.7.10"
  },
  "vscode": {
   "interpreter": {
    "hash": "2496ecc683137a232cae2452fbbdd53dab340598b6e499c8995be760f3a431b4"
   }
  }
 },
 "nbformat": 4,
 "nbformat_minor": 4
}
