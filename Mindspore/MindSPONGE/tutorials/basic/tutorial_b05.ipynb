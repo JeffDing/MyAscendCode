{
 "cells": [
  {
   "cell_type": "code",
   "execution_count": 1,
   "id": "6adf8b80-784a-449c-9fbf-a6e6afaef6e5",
   "metadata": {},
   "outputs": [],
   "source": [
    "from mindspore import context\n",
    "context.set_context(mode=context.GRAPH_MODE, device_target=\"GPU\")"
   ]
  },
  {
   "cell_type": "code",
   "execution_count": 2,
   "id": "6cb602d4-e208-42ac-88fc-9e9768c77589",
   "metadata": {},
   "outputs": [],
   "source": [
    "from mindsponge import Sponge\n",
    "from mindsponge import Molecule\n",
    "from mindsponge import ForceField\n",
    "from mindsponge import DynamicUpdater\n",
    "from mindsponge import SimulationCell\n",
    "from mindsponge.control import VelocityVerlet, Langevin, BerendsenBarostat\n",
    "from mindsponge.function import VelocityGenerator\n",
    "from mindsponge.callback import WriteH5MD, RunInfo\n",
    "from mindsponge.optimizer import SteepestDescent"
   ]
  },
  {
   "cell_type": "code",
   "execution_count": 3,
   "id": "6a33a60b-08b8-42f4-8a78-b6553d418e4e",
   "metadata": {},
   "outputs": [
    {
     "data": {
      "text/plain": [
       "Molecule<>"
      ]
     },
     "execution_count": 3,
     "metadata": {},
     "output_type": "execute_result"
    }
   ],
   "source": [
    "system = Molecule(template='water.spce.yaml')\n",
    "system.set_pbc_box([0.4, 0.4, 0.4])"
   ]
  },
  {
   "cell_type": "markdown",
   "id": "c199fd38-25ff-40bf-bc35-02255f10017e",
   "metadata": {},
   "source": [
    "如果定义了周期性的盒子，那么还可以使用repeat_box功能来扩展/复制系统，比如可以这样将系统复制1000份"
   ]
  },
  {
   "cell_type": "code",
   "execution_count": 4,
   "id": "d1be6458-a40f-428c-8667-35472bd7a811",
   "metadata": {},
   "outputs": [
    {
     "data": {
      "text/plain": [
       "Molecule<>"
      ]
     },
     "execution_count": 4,
     "metadata": {},
     "output_type": "execute_result"
    }
   ],
   "source": [
    "system.repeat_box([10, 10, 10])"
   ]
  },
  {
   "cell_type": "markdown",
   "id": "39ebe6b6-f38e-4789-bd3a-21ebfd571324",
   "metadata": {},
   "source": [
    "得到的分子系统的示意图如下所示：\n",
    "![](../../docs/tutorial_b05.png)"
   ]
  },
  {
   "cell_type": "code",
   "execution_count": 5,
   "id": "013928f0-8217-48b8-87b8-4983e42c4db8",
   "metadata": {},
   "outputs": [],
   "source": [
    "potential = ForceField(system, parameters='SPCE')"
   ]
  },
  {
   "cell_type": "code",
   "execution_count": 6,
   "id": "eaa250b5-17e8-4513-9a35-3f25ad00fb72",
   "metadata": {},
   "outputs": [],
   "source": [
    "opt = SteepestDescent(system.trainable_params(), 1e-6)"
   ]
  },
  {
   "cell_type": "code",
   "execution_count": 7,
   "id": "45386747-2f06-4157-8557-43cfed2f35ce",
   "metadata": {},
   "outputs": [
    {
     "name": "stderr",
     "output_type": "stream",
     "text": [
      "[WARNING] KERNEL(19979,7f683a92f740,python):2022-08-15-14:32:25.115.623 [mindspore/ccsrc/plugin/device/gpu/kernel/cuda_impl/cuda_class/cuda_class_common.h:55] CalShapesSizeInBytes] For 'Neg', the shapes[0] is ( )\n",
      "[WARNING] KERNEL(19979,7f683a92f740,python):2022-08-15-14:32:25.117.226 [mindspore/ccsrc/plugin/device/gpu/kernel/cuda_impl/cuda_class/cuda_class_common.h:55] CalShapesSizeInBytes] For 'Floor', the shapes[0] is ( )\n",
      "[WARNING] KERNEL(19979,7f683a92f740,python):2022-08-15-14:32:26.056.566 [mindspore/ccsrc/plugin/device/gpu/kernel/cuda_impl/cuda_class/cuda_class_common.h:55] CalShapesSizeInBytes] For 'Square', the shapes[0] is ( )\n",
      "[WARNING] KERNEL(19979,7f683a92f740,python):2022-08-15-14:32:26.058.358 [mindspore/ccsrc/plugin/device/gpu/kernel/cuda_impl/cuda_class/cuda_class_common.h:55] CalShapesSizeInBytes] For 'Erfc', the shapes[0] is ( )\n",
      "[WARNING] KERNEL(19979,7f683a92f740,python):2022-08-15-14:32:26.059.095 [mindspore/ccsrc/plugin/device/gpu/kernel/cuda_impl/cuda_class/cuda_class_common.h:55] CalShapesSizeInBytes] For 'Square', the shapes[0] is ( )\n",
      "[WARNING] KERNEL(19979,7f683a92f740,python):2022-08-15-14:32:26.060.189 [mindspore/ccsrc/plugin/device/gpu/kernel/cuda_impl/cuda_class/cuda_class_common.h:55] CalShapesSizeInBytes] For 'Exp', the shapes[0] is ( )\n",
      "[WARNING] KERNEL(19979,7f683a92f740,python):2022-08-15-14:32:26.061.277 [mindspore/ccsrc/plugin/device/gpu/kernel/cuda_impl/cuda_class/cuda_class_common.h:55] CalShapesSizeInBytes] For 'Sqrt', the shapes[0] is ( )\n"
     ]
    }
   ],
   "source": [
    "sim = SimulationCell(system, potential, cutoff=1.0)\n",
    "md = Sponge(sim, optimizer=opt)"
   ]
  },
  {
   "cell_type": "code",
   "execution_count": 8,
   "id": "ec6d41b5-8da8-4add-a2b7-6e6754be5742",
   "metadata": {},
   "outputs": [
    {
     "name": "stderr",
     "output_type": "stream",
     "text": [
      "[WARNING] KERNEL(19979,7f683a92f740,python):2022-08-15-14:32:30.001.118 [mindspore/ccsrc/plugin/device/gpu/kernel/cuda_impl/cuda_class/cuda_class_common.h:55] CalShapesSizeInBytes] For 'Neg', the shapes[0] is ( )\n"
     ]
    },
    {
     "name": "stdout",
     "output_type": "stream",
     "text": [
      "Step: 0, E_pot: -706514.3, \n",
      "Step: 10, E_pot: -780552.5, \n",
      "Step: 20, E_pot: -782711.0, \n",
      "Step: 30, E_pot: -782719.3, \n",
      "Step: 40, E_pot: -782720.56, \n",
      "Step: 50, E_pot: -782722.25, \n",
      "Step: 60, E_pot: -782720.25, \n",
      "Step: 70, E_pot: -782721.56, \n",
      "Step: 80, E_pot: -782719.44, \n",
      "Step: 90, E_pot: -782720.6, \n"
     ]
    },
    {
     "data": {
      "text/plain": [
       "<mindsponge.core.sponge.Sponge at 0x7f6770974850>"
      ]
     },
     "execution_count": 8,
     "metadata": {},
     "output_type": "execute_result"
    }
   ],
   "source": [
    "run_info = RunInfo(10)\n",
    "md.run(100, callbacks=[run_info])"
   ]
  },
  {
   "cell_type": "code",
   "execution_count": 9,
   "id": "d30ca198-6e5e-4ec2-a64c-99d1e254f959",
   "metadata": {},
   "outputs": [
    {
     "name": "stderr",
     "output_type": "stream",
     "text": [
      "[WARNING] KERNEL(19979,7f683a92f740,python):2022-08-15-14:32:31.673.448 [mindspore/ccsrc/plugin/device/gpu/kernel/gpu_kernel_factory.cc:93] ReducePrecision] Kernel [StandardNormal] does not support int64, cast input 0 to int32.\n",
      "[WARNING] PRE_ACT(19979,7f683a92f740,python):2022-08-15-14:32:31.674.619 [mindspore/ccsrc/plugin/device/gpu/optimizer/reduce_precision_fusion.cc:84] Run] Reduce precision for [StandardNormal] input 0\n"
     ]
    }
   ],
   "source": [
    "temp = 300\n",
    "vgen = VelocityGenerator(temp)\n",
    "velocity = vgen(system.coordinate.shape, system.atom_mass)"
   ]
  },
  {
   "cell_type": "code",
   "execution_count": 10,
   "id": "73e8a6d6-7f4b-4b0e-9fc8-1965bd5fb32b",
   "metadata": {},
   "outputs": [],
   "source": [
    "opt = DynamicUpdater(system,\n",
    "                     integrator=VelocityVerlet(system),\n",
    "                     thermostat=Langevin(system, temp),\n",
    "                     barostat=BerendsenBarostat(system, 1),\n",
    "                     velocity=velocity,\n",
    "                     time_step=5e-4)\n",
    "md = Sponge(sim, optimizer=opt)"
   ]
  },
  {
   "cell_type": "code",
   "execution_count": 11,
   "id": "7a20e0e2-8906-4f88-b315-804ac193aa9a",
   "metadata": {},
   "outputs": [
    {
     "data": {
      "text/plain": [
       "<mindsponge.core.sponge.Sponge at 0x7f67602b1c90>"
      ]
     },
     "execution_count": 11,
     "metadata": {},
     "output_type": "execute_result"
    }
   ],
   "source": [
    "md.change_optimizer(opt)"
   ]
  },
  {
   "cell_type": "code",
   "execution_count": 12,
   "id": "dc3c3c5c-4106-44ce-99f8-d842983762d9",
   "metadata": {},
   "outputs": [],
   "source": [
    "cb_h5md = WriteH5MD(system, 'tutorial_b05.h5md', save_freq=10)"
   ]
  },
  {
   "cell_type": "code",
   "execution_count": 13,
   "id": "173b4f21-81f0-4e06-9375-09132fcd254d",
   "metadata": {},
   "outputs": [
    {
     "name": "stderr",
     "output_type": "stream",
     "text": [
      "[WARNING] KERNEL(19979,7f683a92f740,python):2022-08-15-14:32:35.690.275 [mindspore/ccsrc/plugin/device/gpu/kernel/gpu_kernel_factory.cc:93] ReducePrecision] Kernel [StandardNormal] does not support int64, cast input 0 to int32.\n",
      "[WARNING] PRE_ACT(19979,7f683a92f740,python):2022-08-15-14:32:35.712.062 [mindspore/ccsrc/plugin/device/gpu/optimizer/reduce_precision_fusion.cc:84] Run] Reduce precision for [StandardNormal] input 0\n"
     ]
    },
    {
     "name": "stdout",
     "output_type": "stream",
     "text": [
      "Step: 0, E_pot: -782718.3, E_kin: 11166.619, E_tot: -771551.7, Temperature: 298.55188, Pressure: 3412.2046, Volume: 64.0\n",
      "Step: 10, E_pot: -779667.44, E_kin: 7620.862, E_tot: -772046.56, Temperature: 203.75214, Pressure: 1441.239, Volume: 64.0301\n",
      "Step: 20, E_pot: -779614.06, E_kin: 9060.289, E_tot: -770553.75, Temperature: 242.23682, Pressure: 2623.5615, Volume: 64.06473\n",
      "Step: 30, E_pot: -781919.06, E_kin: 10508.436, E_tot: -771410.6, Temperature: 280.95462, Pressure: 4070.1924, Volume: 64.10864\n",
      "Step: 40, E_pot: -780328.8, E_kin: 8303.462, E_tot: -772025.4, Temperature: 222.00221, Pressure: 1207.0321, Volume: 64.15063\n",
      "Step: 50, E_pot: -781403.94, E_kin: 10017.07, E_tot: -771386.9, Temperature: 267.8174, Pressure: 1501.1423, Volume: 64.17863\n",
      "Step: 60, E_pot: -782917.94, E_kin: 10618.373, E_tot: -772299.56, Temperature: 283.89392, Pressure: 1124.8983, Volume: 64.20259\n",
      "Step: 70, E_pot: -782474.06, E_kin: 10259.326, E_tot: -772214.75, Temperature: 274.2944, Pressure: 155.06824, Volume: 64.208534\n",
      "Step: 80, E_pot: -783771.9, E_kin: 11118.333, E_tot: -772653.56, Temperature: 297.2609, Pressure: -505.3308, Volume: 64.21649\n",
      "Step: 90, E_pot: -783435.25, E_kin: 10801.364, E_tot: -772633.9, Temperature: 288.78638, Pressure: -726.5364, Volume: 64.2078\n",
      "Step: 100, E_pot: -784251.56, E_kin: 11469.042, E_tot: -772782.5, Temperature: 306.63748, Pressure: -1431.2689, Volume: 64.19605\n",
      "Step: 110, E_pot: -784506.1, E_kin: 11332.233, E_tot: -773173.9, Temperature: 302.97977, Pressure: -819.05884, Volume: 64.17738\n",
      "Step: 120, E_pot: -783614.3, E_kin: 10488.301, E_tot: -773126.0, Temperature: 280.4163, Pressure: -1958.28, Volume: 64.1612\n",
      "Step: 130, E_pot: -784487.7, E_kin: 11572.499, E_tot: -772915.2, Temperature: 309.40353, Pressure: -1606.4316, Volume: 64.13695\n",
      "Step: 140, E_pot: -784895.6, E_kin: 11370.211, E_tot: -773525.44, Temperature: 303.99512, Pressure: -1227.3098, Volume: 64.11517\n",
      "Step: 150, E_pot: -784018.94, E_kin: 10648.305, E_tot: -773370.6, Temperature: 284.69418, Pressure: -2155.3086, Volume: 64.09\n",
      "Step: 160, E_pot: -784526.25, E_kin: 11315.357, E_tot: -773210.9, Temperature: 302.52856, Pressure: -1905.4844, Volume: 64.06441\n",
      "Step: 170, E_pot: -785016.1, E_kin: 11537.977, E_tot: -773478.1, Temperature: 308.48053, Pressure: -1190.7394, Volume: 64.03983\n",
      "Step: 180, E_pot: -784640.44, E_kin: 10987.586, E_tot: -773652.9, Temperature: 293.76523, Pressure: -1858.7855, Volume: 64.01538\n",
      "Step: 190, E_pot: -784378.6, E_kin: 10945.502, E_tot: -773433.1, Temperature: 292.64008, Pressure: -1734.33, Volume: 63.9916\n",
      "Step: 200, E_pot: -785073.44, E_kin: 11658.18, E_tot: -773415.25, Temperature: 311.69427, Pressure: -1111.656, Volume: 63.971966\n",
      "Step: 210, E_pot: -785130.44, E_kin: 11409.863, E_tot: -773720.56, Temperature: 305.05527, Pressure: -1308.4963, Volume: 63.9504\n",
      "Step: 220, E_pot: -784392.6, E_kin: 10850.838, E_tot: -773541.8, Temperature: 290.1091, Pressure: -1249.5779, Volume: 63.931313\n",
      "Step: 230, E_pot: -784864.3, E_kin: 11527.148, E_tot: -773337.2, Temperature: 308.19104, Pressure: -811.1823, Volume: 63.92013\n",
      "Step: 240, E_pot: -785270.0, E_kin: 11636.371, E_tot: -773633.6, Temperature: 311.1112, Pressure: -742.8418, Volume: 63.905598\n",
      "Step: 250, E_pot: -784748.4, E_kin: 11082.332, E_tot: -773666.06, Temperature: 296.29837, Pressure: -657.1179, Volume: 63.893353\n",
      "Step: 260, E_pot: -784822.8, E_kin: 11388.184, E_tot: -773434.6, Temperature: 304.47565, Pressure: -722.35425, Volume: 63.887867\n",
      "Step: 270, E_pot: -785393.6, E_kin: 11822.828, E_tot: -773570.8, Temperature: 316.09634, Pressure: -421.65063, Volume: 63.87795\n",
      "Step: 280, E_pot: -785304.0, E_kin: 11586.43, E_tot: -773717.56, Temperature: 309.77597, Pressure: -141.32263, Volume: 63.87053\n",
      "Step: 290, E_pot: -785011.8, E_kin: 11476.65, E_tot: -773535.2, Temperature: 306.84088, Pressure: -481.69064, Volume: 63.868484\n",
      "Step: 300, E_pot: -785560.2, E_kin: 12093.941, E_tot: -773466.25, Temperature: 323.34485, Pressure: -342.38828, Volume: 63.864277\n",
      "Step: 310, E_pot: -785948.6, E_kin: 12245.017, E_tot: -773703.6, Temperature: 327.384, Pressure: 3.3180237, Volume: 63.859226\n",
      "Step: 320, E_pot: -785454.9, E_kin: 11806.119, E_tot: -773648.75, Temperature: 315.64963, Pressure: -368.7622, Volume: 63.856415\n",
      "Step: 330, E_pot: -785523.0, E_kin: 12075.84, E_tot: -773447.2, Temperature: 322.8609, Pressure: -223.24686, Volume: 63.85405\n",
      "Step: 340, E_pot: -785867.7, E_kin: 12251.311, E_tot: -773616.4, Temperature: 327.5523, Pressure: 324.3191, Volume: 63.85371\n",
      "Step: 350, E_pot: -785544.5, E_kin: 11855.221, E_tot: -773689.25, Temperature: 316.9624, Pressure: 9.336452, Volume: 63.854897\n",
      "Step: 360, E_pot: -785340.3, E_kin: 11789.412, E_tot: -773550.9, Temperature: 315.20294, Pressure: -20.187569, Volume: 63.855946\n",
      "Step: 370, E_pot: -785609.7, E_kin: 12052.051, E_tot: -773557.6, Temperature: 322.22485, Pressure: 383.79272, Volume: 63.8599\n",
      "Step: 380, E_pot: -785682.2, E_kin: 11992.726, E_tot: -773689.44, Temperature: 320.63876, Pressure: 250.46867, Volume: 63.862988\n",
      "Step: 390, E_pot: -785484.5, E_kin: 11809.624, E_tot: -773674.9, Temperature: 315.74332, Pressure: 237.81786, Volume: 63.866024\n",
      "Step: 400, E_pot: -785615.44, E_kin: 12109.226, E_tot: -773506.2, Temperature: 323.7535, Pressure: 405.21286, Volume: 63.872746\n",
      "Step: 410, E_pot: -786074.75, E_kin: 12454.104, E_tot: -773620.6, Temperature: 332.97418, Pressure: 356.12323, Volume: 63.877686\n",
      "Step: 420, E_pot: -785933.4, E_kin: 12193.068, E_tot: -773740.3, Temperature: 325.99512, Pressure: 320.312, Volume: 63.880836\n",
      "Step: 430, E_pot: -785737.25, E_kin: 12171.051, E_tot: -773566.2, Temperature: 325.40646, Pressure: 318.9503, Volume: 63.88806\n",
      "Step: 440, E_pot: -786093.56, E_kin: 12537.585, E_tot: -773556.0, Temperature: 335.20618, Pressure: 336.5671, Volume: 63.89332\n",
      "Step: 450, E_pot: -786037.44, E_kin: 12315.863, E_tot: -773721.56, Temperature: 329.27817, Pressure: 572.0134, Volume: 63.897484\n",
      "Step: 460, E_pot: -785678.8, E_kin: 12023.221, E_tot: -773655.56, Temperature: 321.45407, Pressure: 362.25494, Volume: 63.905895\n",
      "Step: 470, E_pot: -785853.7, E_kin: 12240.087, E_tot: -773613.6, Temperature: 327.25223, Pressure: 370.4937, Volume: 63.912254\n",
      "Step: 480, E_pot: -786019.9, E_kin: 12297.427, E_tot: -773722.44, Temperature: 328.78525, Pressure: 727.4069, Volume: 63.91893\n",
      "Step: 490, E_pot: -785797.4, E_kin: 12066.378, E_tot: -773731.0, Temperature: 322.60794, Pressure: 541.3932, Volume: 63.92833\n",
      "Step: 500, E_pot: -785804.8, E_kin: 12165.232, E_tot: -773639.56, Temperature: 325.2509, Pressure: 437.25635, Volume: 63.93588\n",
      "Step: 510, E_pot: -786103.4, E_kin: 12461.824, E_tot: -773641.56, Temperature: 333.1806, Pressure: 719.7069, Volume: 63.94475\n",
      "Step: 520, E_pot: -786268.7, E_kin: 12545.364, E_tot: -773723.3, Temperature: 335.41415, Pressure: 459.55478, Volume: 63.953285\n",
      "Step: 530, E_pot: -786104.1, E_kin: 12391.031, E_tot: -773713.1, Temperature: 331.28787, Pressure: 362.97034, Volume: 63.958733\n",
      "Step: 540, E_pot: -786067.7, E_kin: 12487.941, E_tot: -773579.75, Temperature: 333.87888, Pressure: 624.9148, Volume: 63.967422\n",
      "Step: 550, E_pot: -786190.75, E_kin: 12537.01, E_tot: -773653.75, Temperature: 335.19077, Pressure: 630.6743, Volume: 63.975662\n",
      "Step: 560, E_pot: -785953.8, E_kin: 12250.071, E_tot: -773703.75, Temperature: 327.51917, Pressure: 692.021, Volume: 63.98408\n",
      "Step: 570, E_pot: -785895.94, E_kin: 12336.48, E_tot: -773559.44, Temperature: 329.8294, Pressure: 572.53577, Volume: 63.99573\n",
      "Step: 580, E_pot: -786278.7, E_kin: 12676.192, E_tot: -773602.5, Temperature: 338.912, Pressure: 614.2606, Volume: 64.0035\n",
      "Step: 590, E_pot: -786100.7, E_kin: 12422.015, E_tot: -773678.7, Temperature: 332.11627, Pressure: 629.7793, Volume: 64.011284\n",
      "Step: 600, E_pot: -785892.56, E_kin: 12271.937, E_tot: -773620.6, Temperature: 328.10376, Pressure: 502.2917, Volume: 64.02154\n",
      "Step: 610, E_pot: -786064.94, E_kin: 12419.372, E_tot: -773645.56, Temperature: 332.04562, Pressure: 503.2561, Volume: 64.02914\n",
      "Step: 620, E_pot: -786083.75, E_kin: 12350.305, E_tot: -773733.44, Temperature: 330.19904, Pressure: 512.4065, Volume: 64.03578\n",
      "Step: 630, E_pot: -786073.94, E_kin: 12370.83, E_tot: -773703.1, Temperature: 330.74777, Pressure: 430.322, Volume: 64.04338\n",
      "Step: 640, E_pot: -786134.2, E_kin: 12473.76, E_tot: -773660.44, Temperature: 333.49973, Pressure: 326.49103, Volume: 64.04886\n",
      "Step: 650, E_pot: -786164.5, E_kin: 12495.996, E_tot: -773668.5, Temperature: 334.09424, Pressure: 471.09015, Volume: 64.05467\n",
      "Step: 660, E_pot: -786176.75, E_kin: 12446.606, E_tot: -773730.1, Temperature: 332.77374, Pressure: 477.80597, Volume: 64.061775\n",
      "Step: 670, E_pot: -785982.56, E_kin: 12206.117, E_tot: -773776.44, Temperature: 326.344, Pressure: 312.538, Volume: 64.06754\n",
      "Step: 680, E_pot: -786096.1, E_kin: 12358.653, E_tot: -773737.5, Temperature: 330.42224, Pressure: 405.07367, Volume: 64.073265\n",
      "Step: 690, E_pot: -786294.6, E_kin: 12523.98, E_tot: -773770.6, Temperature: 334.84244, Pressure: 424.99594, Volume: 64.079636\n",
      "Step: 700, E_pot: -786199.5, E_kin: 12404.002, E_tot: -773795.5, Temperature: 331.63467, Pressure: 248.94763, Volume: 64.08367\n",
      "Step: 710, E_pot: -786231.7, E_kin: 12522.622, E_tot: -773709.06, Temperature: 334.80612, Pressure: 316.28052, Volume: 64.08828\n",
      "Step: 720, E_pot: -786363.3, E_kin: 12652.76, E_tot: -773710.56, Temperature: 338.2855, Pressure: 306.03497, Volume: 64.093956\n",
      "Step: 730, E_pot: -786292.56, E_kin: 12527.288, E_tot: -773765.25, Temperature: 334.93085, Pressure: 269.7663, Volume: 64.09686\n",
      "Step: 740, E_pot: -786105.2, E_kin: 12380.862, E_tot: -773724.3, Temperature: 331.01602, Pressure: 341.82123, Volume: 64.10186\n",
      "Step: 750, E_pot: -786122.1, E_kin: 12426.87, E_tot: -773695.25, Temperature: 332.2461, Pressure: 292.65723, Volume: 64.10738\n",
      "Step: 760, E_pot: -786198.75, E_kin: 12484.848, E_tot: -773713.9, Temperature: 333.79617, Pressure: 433.26727, Volume: 64.111465\n",
      "Step: 770, E_pot: -786132.2, E_kin: 12376.02, E_tot: -773756.2, Temperature: 330.88654, Pressure: 357.55353, Volume: 64.117165\n",
      "Step: 780, E_pot: -786124.44, E_kin: 12421.55, E_tot: -773702.9, Temperature: 332.10382, Pressure: 213.53323, Volume: 64.12276\n",
      "Step: 790, E_pot: -786320.8, E_kin: 12613.367, E_tot: -773707.44, Temperature: 337.23227, Pressure: 336.0072, Volume: 64.126564\n",
      "Step: 800, E_pot: -786282.06, E_kin: 12501.279, E_tot: -773780.8, Temperature: 334.23547, Pressure: 270.94635, Volume: 64.13069\n",
      "Step: 810, E_pot: -786134.0, E_kin: 12419.17, E_tot: -773714.8, Temperature: 332.0402, Pressure: 127.77536, Volume: 64.13442\n",
      "Step: 820, E_pot: -786320.56, E_kin: 12654.84, E_tot: -773665.75, Temperature: 338.3411, Pressure: 331.7343, Volume: 64.13766\n",
      "Step: 830, E_pot: -786327.5, E_kin: 12575.771, E_tot: -773751.75, Temperature: 336.2271, Pressure: 352.94202, Volume: 64.14192\n",
      "Step: 840, E_pot: -786122.1, E_kin: 12357.0205, E_tot: -773765.1, Temperature: 330.37857, Pressure: 84.57449, Volume: 64.14605\n",
      "Step: 850, E_pot: -786370.25, E_kin: 12631.846, E_tot: -773738.4, Temperature: 337.72632, Pressure: 336.0514, Volume: 64.14978\n",
      "Step: 860, E_pot: -786332.94, E_kin: 12566.844, E_tot: -773766.1, Temperature: 335.98843, Pressure: 175.33432, Volume: 64.1532\n",
      "Step: 870, E_pot: -786269.9, E_kin: 12519.245, E_tot: -773750.6, Temperature: 334.71582, Pressure: 190.88977, Volume: 64.15535\n",
      "Step: 880, E_pot: -786311.75, E_kin: 12585.045, E_tot: -773726.7, Temperature: 336.47504, Pressure: 413.75964, Volume: 64.16074\n",
      "Step: 890, E_pot: -786178.56, E_kin: 12399.402, E_tot: -773779.2, Temperature: 331.5117, Pressure: 243.99146, Volume: 64.16514\n",
      "Step: 900, E_pot: -786183.4, E_kin: 12396.422, E_tot: -773786.94, Temperature: 331.432, Pressure: 374.78525, Volume: 64.169525\n",
      "Step: 910, E_pot: -786209.94, E_kin: 12406.675, E_tot: -773803.25, Temperature: 331.70615, Pressure: 376.69452, Volume: 64.1756\n",
      "Step: 920, E_pot: -786256.94, E_kin: 12530.533, E_tot: -773726.4, Temperature: 335.01764, Pressure: 248.54424, Volume: 64.18\n",
      "Step: 930, E_pot: -786528.94, E_kin: 12759.961, E_tot: -773769.0, Temperature: 341.1516, Pressure: 299.02237, Volume: 64.18424\n",
      "Step: 940, E_pot: -786530.44, E_kin: 12774.404, E_tot: -773756.06, Temperature: 341.53778, Pressure: 187.45706, Volume: 64.18695\n",
      "Step: 950, E_pot: -786528.56, E_kin: 12859.977, E_tot: -773668.56, Temperature: 343.82565, Pressure: 103.431854, Volume: 64.1897\n",
      "Step: 960, E_pot: -786727.2, E_kin: 12986.347, E_tot: -773740.8, Temperature: 347.20428, Pressure: 300.96237, Volume: 64.193115\n",
      "Step: 970, E_pot: -786495.44, E_kin: 12708.576, E_tot: -773786.9, Temperature: 339.7778, Pressure: 131.91417, Volume: 64.19594\n",
      "Step: 980, E_pot: -786245.9, E_kin: 12545.841, E_tot: -773700.06, Temperature: 335.42688, Pressure: 226.729, Volume: 64.198074\n",
      "Step: 990, E_pot: -786304.0, E_kin: 12608.488, E_tot: -773695.5, Temperature: 337.10184, Pressure: 510.38312, Volume: 64.20449\n"
     ]
    },
    {
     "data": {
      "text/plain": [
       "<mindsponge.core.sponge.Sponge at 0x7f67602b1c90>"
      ]
     },
     "execution_count": 13,
     "metadata": {},
     "output_type": "execute_result"
    }
   ],
   "source": [
    "md.run(1000, callbacks=[run_info, cb_h5md])"
   ]
  }
 ],
 "metadata": {
  "kernelspec": {
   "display_name": "MindSpore",
   "language": "python",
   "name": "mindspore"
  },
  "language_info": {
   "codemirror_mode": {
    "name": "ipython",
    "version": 3
   },
   "file_extension": ".py",
   "mimetype": "text/x-python",
   "name": "python",
   "nbconvert_exporter": "python",
   "pygments_lexer": "ipython3",
   "version": "3.7.10"
  }
 },
 "nbformat": 4,
 "nbformat_minor": 5
}
