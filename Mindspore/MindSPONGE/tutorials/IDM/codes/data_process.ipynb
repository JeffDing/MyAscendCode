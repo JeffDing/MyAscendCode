{
 "cells": [
  {
   "cell_type": "code",
   "execution_count": 3,
   "metadata": {},
   "outputs": [],
   "source": [
    "import os\n",
    "import numpy as np\n",
    "import mdshare\n"
   ]
  },
  {
   "cell_type": "code",
   "execution_count": 11,
   "metadata": {},
   "outputs": [
    {
     "name": "stdout",
     "output_type": "stream",
     "text": [
      "100%|██████████| 135M/135M [00:40<00:00, 3.36MB/s]                                                                   \n"
     ]
    }
   ],
   "source": [
    "dpath = \"../data/\"\n"
   ]
  },
  {
   "cell_type": "code",
   "execution_count": null,
   "metadata": {},
   "outputs": [],
   "source": [
    "# Download dataset to dpath:\n",
    "local_filename = mdshare.fetch(\n",
    "    'alanine-dipeptide-3x250ns-backbone-dihedrals.npz', working_directory=dpath)\n",
    "local_filename = mdshare.fetch(\n",
    "    'alanine-dipeptide-3x250ns-heavy-atom-distances.npz', working_directory=dpath)\n"
   ]
  },
  {
   "cell_type": "code",
   "execution_count": 16,
   "metadata": {},
   "outputs": [
    {
     "name": "stdout",
     "output_type": "stream",
     "text": [
      "(750000, 2)\n"
     ]
    }
   ],
   "source": [
    "local_filename = os.path.join(\n",
    "    dpath, 'alanine-dipeptide-3x250ns-backbone-dihedrals.npz')\n",
    "\n",
    "with np.load(local_filename) as fh:\n",
    "    trajs_torsion = [fh[key] for key in fh.keys()]\n",
    "\n",
    "data_interval = 1\n",
    "traj_concat = np.concatenate((trajs_torsion), axis=0)[::data_interval]\n",
    "print(traj_concat.shape)  # check the size of trajectories\n"
   ]
  },
  {
   "cell_type": "code",
   "execution_count": 13,
   "metadata": {},
   "outputs": [
    {
     "name": "stdout",
     "output_type": "stream",
     "text": [
      "(750000, 45)\n"
     ]
    }
   ],
   "source": [
    "local_filename = os.path.join(\n",
    "    dpath, 'alanine-dipeptide-3x250ns-heavy-atom-distances.npz')\n",
    "\n",
    "with np.load(local_filename) as fh:\n",
    "    trajs_position = [fh[key] for key in fh.keys()]\n",
    "\n",
    "data_interval = 1\n",
    "traj_concat = np.concatenate((trajs_position), axis=0)[::data_interval]\n",
    "print(traj_concat.shape)  # check the size of trajectories\n"
   ]
  }
 ],
 "metadata": {
  "kernelspec": {
   "display_name": "MindSpore",
   "language": "python",
   "name": "mindspore"
  },
  "language_info": {
   "codemirror_mode": {
    "name": "ipython",
    "version": 3
   },
   "file_extension": ".py",
   "mimetype": "text/x-python",
   "name": "python",
   "nbconvert_exporter": "python",
   "pygments_lexer": "ipython3",
   "version": "3.7.6"
  },
  "vscode": {
   "interpreter": {
    "hash": "db9951cf10aa2ecbfbd7a8532ca3459ecaf2b18beb3e33baaf64f31bf9d77d20"
   }
  }
 },
 "nbformat": 4,
 "nbformat_minor": 4
}
